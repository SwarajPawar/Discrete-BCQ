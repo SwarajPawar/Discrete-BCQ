{
 "cells": [
  {
   "cell_type": "code",
   "execution_count": null,
   "metadata": {},
   "outputs": [],
   "source": [
    "from main import train_DBCQ, generate_buffer_from_dataset, dargs"
   ]
  },
  {
   "cell_type": "code",
   "execution_count": null,
   "metadata": {},
   "outputs": [],
   "source": [
    "import pandas as pd\n",
    "\n",
    "env_name = \"FrozenLake-v0\"\n",
    "dataset = pd.read_csv(\"frozen_lake_100000x10.tsv\", sep='\\t', index_col=0).values\n",
    "dataset.shape"
   ]
  },
  {
   "cell_type": "code",
   "execution_count": null,
   "metadata": {},
   "outputs": [],
   "source": [
    "import torch\n",
    "vars_in_single_time_step = 3\n",
    "sequence_length = dataset.shape[1]//vars_in_single_time_step\n",
    "state_vars = 1\n",
    "action_vars = 1\n",
    "num_actions = 4\n",
    "device = torch.device(\"cuda\" if torch.cuda.is_available() else \"cpu\")\n",
    "print(sequence_length)"
   ]
  },
  {
   "cell_type": "code",
   "execution_count": null,
   "metadata": {},
   "outputs": [],
   "source": [
    "generate_buffer_from_dataset(dataset, vars_in_single_time_step,\n",
    "                                 sequence_length, state_vars, action_vars,\n",
    "                                 device, env='FrozenLake-v0', seed=0, buffer_name='b1'\n",
    "                                 )"
   ]
  },
  {
   "cell_type": "code",
   "execution_count": null,
   "metadata": {},
   "outputs": [],
   "source": [
    "import gym"
   ]
  },
  {
   "cell_type": "code",
   "execution_count": null,
   "metadata": {},
   "outputs": [],
   "source": [
    "env = gym.make(env_name)"
   ]
  },
  {
   "cell_type": "code",
   "execution_count": null,
   "metadata": {},
   "outputs": [],
   "source": [
    "print(env.action_space.n)\n",
    "\n",
    "dictt = {\"lr\":3e-4}\n",
    "import datetime"
   ]
  },
  {
   "cell_type": "code",
   "execution_count": null,
   "metadata": {},
   "outputs": [],
   "source": [
    "ddargs = dargs(num_actions, state_vars, 1, env=env_name, seed=0, buffer_name='b1', optimizer=\"Adam\", optimizer_parameters=dictt, do_eval_policy = False, env_made=env)"
   ]
  },
  {
   "cell_type": "code",
   "execution_count": null,
   "metadata": {},
   "outputs": [],
   "source": [
    "a = datetime.datetime.now()\n",
    "model = train_DBCQ(ddargs, device)\n",
    "b = datetime.datetime.now()"
   ]
  },
  {
   "cell_type": "code",
   "execution_count": null,
   "metadata": {},
   "outputs": [],
   "source": [
    "from main import eval_policy_dbcq\n",
    "eval_policy_dbcq(model, env, 1, eval_episodes=10000)\n"
   ]
  },
  {
   "cell_type": "code",
   "execution_count": null,
   "metadata": {},
   "outputs": [],
   "source": [
    "before_q = datetime.datetime.now()\n",
    "for i in range(10000):\n",
    "    model.get_q_values([0])\n",
    "after_q = datetime.datetime.now()\n",
    "(after_q-before_q).total_seconds()/10000"
   ]
  },
  {
   "cell_type": "code",
   "execution_count": null,
   "metadata": {},
   "outputs": [],
   "source": [
    "(b-a).total_seconds()"
   ]
  }
 ],
 "metadata": {
  "kernelspec": {
   "display_name": "Python 3",
   "language": "python",
   "name": "python3"
  },
  "language_info": {
   "codemirror_mode": {
    "name": "ipython",
    "version": 3
   },
   "file_extension": ".py",
   "mimetype": "text/x-python",
   "name": "python",
   "nbconvert_exporter": "python",
   "pygments_lexer": "ipython3",
   "version": "3.7.7"
  }
 },
 "nbformat": 4,
 "nbformat_minor": 4
}
